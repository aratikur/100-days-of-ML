{
 "cells": [
  {
   "cell_type": "code",
   "execution_count": 1,
   "id": "9e42df62-ae54-4c0a-9b77-89aacaa60ecb",
   "metadata": {},
   "outputs": [
    {
     "name": "stdout",
     "output_type": "stream",
     "text": [
      "hello\n"
     ]
    }
   ],
   "source": [
    "print(\"hello\")"
   ]
  },
  {
   "cell_type": "markdown",
   "id": "53356bb3-4d99-4746-94cb-0432fb7794aa",
   "metadata": {},
   "source": [
    "# 1. Import dataset"
   ]
  },
  {
   "cell_type": "markdown",
   "id": "de5a170b-0d39-45e2-aa2b-d33c2bbcb2e7",
   "metadata": {},
   "source": [
    "## Over here we will import the data set"
   ]
  },
  {
   "cell_type": "markdown",
   "id": "58877350-6b76-423c-bd68-33143c679ab7",
   "metadata": {},
   "source": [
    "<p style=\"color: orange\"> Hello <p/>"
   ]
  },
  {
   "cell_type": "code",
   "execution_count": null,
   "id": "9db0cc8a-5f07-459f-9f7a-955a559db3bf",
   "metadata": {},
   "outputs": [],
   "source": []
  }
 ],
 "metadata": {
  "kernelspec": {
   "display_name": "Python 3 (ipykernel)",
   "language": "python",
   "name": "python3"
  },
  "language_info": {
   "codemirror_mode": {
    "name": "ipython",
    "version": 3
   },
   "file_extension": ".py",
   "mimetype": "text/x-python",
   "name": "python",
   "nbconvert_exporter": "python",
   "pygments_lexer": "ipython3",
   "version": "3.13.5"
  }
 },
 "nbformat": 4,
 "nbformat_minor": 5
}
